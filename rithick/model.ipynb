{
 "cells": [
  {
   "cell_type": "code",
   "execution_count": 87,
   "metadata": {},
   "outputs": [],
   "source": [
    "import pandas as pd \n"
   ]
  },
  {
   "cell_type": "code",
   "execution_count": 88,
   "metadata": {},
   "outputs": [
    {
     "data": {
      "text/html": [
       "<div>\n",
       "<style scoped>\n",
       "    .dataframe tbody tr th:only-of-type {\n",
       "        vertical-align: middle;\n",
       "    }\n",
       "\n",
       "    .dataframe tbody tr th {\n",
       "        vertical-align: top;\n",
       "    }\n",
       "\n",
       "    .dataframe thead th {\n",
       "        text-align: right;\n",
       "    }\n",
       "</style>\n",
       "<table border=\"1\" class=\"dataframe\">\n",
       "  <thead>\n",
       "    <tr style=\"text-align: right;\">\n",
       "      <th></th>\n",
       "      <th>Healthy</th>\n",
       "      <th>Unnamed: 1</th>\n",
       "      <th>Unnamed: 2</th>\n",
       "      <th>Unnamed: 3</th>\n",
       "      <th>Unnamed: 4</th>\n",
       "      <th>Unnamed: 5</th>\n",
       "      <th>BRB</th>\n",
       "      <th>Unnamed: 7</th>\n",
       "      <th>Unnamed: 8</th>\n",
       "      <th>Unnamed: 9</th>\n",
       "      <th>...</th>\n",
       "      <th>Unnamed: 25</th>\n",
       "      <th>Unnamed: 26</th>\n",
       "      <th>Unnamed: 27</th>\n",
       "      <th>Unnamed: 28</th>\n",
       "      <th>Unnamed: 29</th>\n",
       "      <th>BRB+BH</th>\n",
       "      <th>Unnamed: 31</th>\n",
       "      <th>Unnamed: 32</th>\n",
       "      <th>Unnamed: 33</th>\n",
       "      <th>Unnamed: 34</th>\n",
       "    </tr>\n",
       "  </thead>\n",
       "  <tbody>\n",
       "    <tr>\n",
       "      <th>0</th>\n",
       "      <td>Index</td>\n",
       "      <td>30.90</td>\n",
       "      <td>89.60</td>\n",
       "      <td>300.20</td>\n",
       "      <td>SPEED</td>\n",
       "      <td>NaN</td>\n",
       "      <td>Index</td>\n",
       "      <td>30.90</td>\n",
       "      <td>89.60</td>\n",
       "      <td>300.20</td>\n",
       "      <td>...</td>\n",
       "      <td>30.90</td>\n",
       "      <td>89.60</td>\n",
       "      <td>300.20</td>\n",
       "      <td>SPEED</td>\n",
       "      <td>NaN</td>\n",
       "      <td>Index</td>\n",
       "      <td>30.90</td>\n",
       "      <td>89.60</td>\n",
       "      <td>300.20</td>\n",
       "      <td>SPEED</td>\n",
       "    </tr>\n",
       "    <tr>\n",
       "      <th>1</th>\n",
       "      <td>1</td>\n",
       "      <td>-40.62</td>\n",
       "      <td>-42.34</td>\n",
       "      <td>-33.29</td>\n",
       "      <td>1765</td>\n",
       "      <td>NaN</td>\n",
       "      <td>1</td>\n",
       "      <td>-57.66</td>\n",
       "      <td>-59.10</td>\n",
       "      <td>-95.87</td>\n",
       "      <td>...</td>\n",
       "      <td>-49.84</td>\n",
       "      <td>-51.53</td>\n",
       "      <td>-39.00</td>\n",
       "      <td>1765</td>\n",
       "      <td>NaN</td>\n",
       "      <td>1</td>\n",
       "      <td>-47.06</td>\n",
       "      <td>-48.37</td>\n",
       "      <td>-31.05</td>\n",
       "      <td>1765</td>\n",
       "    </tr>\n",
       "    <tr>\n",
       "      <th>2</th>\n",
       "      <td>2</td>\n",
       "      <td>-40.42</td>\n",
       "      <td>-41.76</td>\n",
       "      <td>-35.27</td>\n",
       "      <td>1765</td>\n",
       "      <td>NaN</td>\n",
       "      <td>2</td>\n",
       "      <td>-57.34</td>\n",
       "      <td>-58.28</td>\n",
       "      <td>-84.34</td>\n",
       "      <td>...</td>\n",
       "      <td>-49.83</td>\n",
       "      <td>-49.58</td>\n",
       "      <td>-38.27</td>\n",
       "      <td>1765</td>\n",
       "      <td>NaN</td>\n",
       "      <td>2</td>\n",
       "      <td>-47.51</td>\n",
       "      <td>-48.37</td>\n",
       "      <td>-31.12</td>\n",
       "      <td>1765</td>\n",
       "    </tr>\n",
       "    <tr>\n",
       "      <th>3</th>\n",
       "      <td>3</td>\n",
       "      <td>-40.12</td>\n",
       "      <td>-41.77</td>\n",
       "      <td>-34.03</td>\n",
       "      <td>1765</td>\n",
       "      <td>NaN</td>\n",
       "      <td>3</td>\n",
       "      <td>-61.84</td>\n",
       "      <td>-63.13</td>\n",
       "      <td>-78.42</td>\n",
       "      <td>...</td>\n",
       "      <td>-49.32</td>\n",
       "      <td>-51.45</td>\n",
       "      <td>-37.91</td>\n",
       "      <td>1765</td>\n",
       "      <td>NaN</td>\n",
       "      <td>3</td>\n",
       "      <td>-47.66</td>\n",
       "      <td>-49.27</td>\n",
       "      <td>-30.19</td>\n",
       "      <td>1765</td>\n",
       "    </tr>\n",
       "    <tr>\n",
       "      <th>4</th>\n",
       "      <td>4</td>\n",
       "      <td>-40.49</td>\n",
       "      <td>-41.48</td>\n",
       "      <td>-32.83</td>\n",
       "      <td>1765</td>\n",
       "      <td>NaN</td>\n",
       "      <td>4</td>\n",
       "      <td>-64.98</td>\n",
       "      <td>-60.54</td>\n",
       "      <td>-85.11</td>\n",
       "      <td>...</td>\n",
       "      <td>-50.28</td>\n",
       "      <td>-51.40</td>\n",
       "      <td>-37.60</td>\n",
       "      <td>1765</td>\n",
       "      <td>NaN</td>\n",
       "      <td>4</td>\n",
       "      <td>-47.31</td>\n",
       "      <td>-48.10</td>\n",
       "      <td>-31.92</td>\n",
       "      <td>1765</td>\n",
       "    </tr>\n",
       "  </tbody>\n",
       "</table>\n",
       "<p>5 rows × 35 columns</p>\n",
       "</div>"
      ],
      "text/plain": [
       "  Healthy  Unnamed: 1  Unnamed: 2  Unnamed: 3 Unnamed: 4  Unnamed: 5    BRB  \\\n",
       "0   Index       30.90       89.60      300.20      SPEED         NaN  Index   \n",
       "1       1      -40.62      -42.34      -33.29       1765         NaN      1   \n",
       "2       2      -40.42      -41.76      -35.27       1765         NaN      2   \n",
       "3       3      -40.12      -41.77      -34.03       1765         NaN      3   \n",
       "4       4      -40.49      -41.48      -32.83       1765         NaN      4   \n",
       "\n",
       "   Unnamed: 7  Unnamed: 8  Unnamed: 9  ... Unnamed: 25  Unnamed: 26  \\\n",
       "0       30.90       89.60      300.20  ...       30.90        89.60   \n",
       "1      -57.66      -59.10      -95.87  ...      -49.84       -51.53   \n",
       "2      -57.34      -58.28      -84.34  ...      -49.83       -49.58   \n",
       "3      -61.84      -63.13      -78.42  ...      -49.32       -51.45   \n",
       "4      -64.98      -60.54      -85.11  ...      -50.28       -51.40   \n",
       "\n",
       "  Unnamed: 27  Unnamed: 28  Unnamed: 29  BRB+BH Unnamed: 31  Unnamed: 32  \\\n",
       "0      300.20        SPEED          NaN   Index       30.90        89.60   \n",
       "1      -39.00         1765          NaN       1      -47.06       -48.37   \n",
       "2      -38.27         1765          NaN       2      -47.51       -48.37   \n",
       "3      -37.91         1765          NaN       3      -47.66       -49.27   \n",
       "4      -37.60         1765          NaN       4      -47.31       -48.10   \n",
       "\n",
       "  Unnamed: 33  Unnamed: 34  \n",
       "0      300.20        SPEED  \n",
       "1      -31.05         1765  \n",
       "2      -31.12         1765  \n",
       "3      -30.19         1765  \n",
       "4      -31.92         1765  \n",
       "\n",
       "[5 rows x 35 columns]"
      ]
     },
     "execution_count": 88,
     "metadata": {},
     "output_type": "execute_result"
    }
   ],
   "source": [
    "data=pd.read_excel('MFA Model Dataset (1).xlsx')\n",
    "data.head()"
   ]
  },
  {
   "cell_type": "code",
   "execution_count": 89,
   "metadata": {},
   "outputs": [],
   "source": [
    "data1=dict(data)"
   ]
  },
  {
   "cell_type": "code",
   "execution_count": 90,
   "metadata": {},
   "outputs": [
    {
     "data": {
      "text/html": [
       "<div>\n",
       "<style scoped>\n",
       "    .dataframe tbody tr th:only-of-type {\n",
       "        vertical-align: middle;\n",
       "    }\n",
       "\n",
       "    .dataframe tbody tr th {\n",
       "        vertical-align: top;\n",
       "    }\n",
       "\n",
       "    .dataframe thead th {\n",
       "        text-align: right;\n",
       "    }\n",
       "</style>\n",
       "<table border=\"1\" class=\"dataframe\">\n",
       "  <thead>\n",
       "    <tr style=\"text-align: right;\">\n",
       "      <th></th>\n",
       "      <th>Healthy</th>\n",
       "      <th>Unnamed: 1</th>\n",
       "      <th>Unnamed: 2</th>\n",
       "      <th>Unnamed: 3</th>\n",
       "      <th>Unnamed: 4</th>\n",
       "      <th>Unnamed: 5</th>\n",
       "      <th>BRB</th>\n",
       "      <th>Unnamed: 7</th>\n",
       "      <th>Unnamed: 8</th>\n",
       "      <th>Unnamed: 9</th>\n",
       "      <th>...</th>\n",
       "      <th>Unnamed: 25</th>\n",
       "      <th>Unnamed: 26</th>\n",
       "      <th>Unnamed: 27</th>\n",
       "      <th>Unnamed: 28</th>\n",
       "      <th>Unnamed: 29</th>\n",
       "      <th>BRB+BH</th>\n",
       "      <th>Unnamed: 31</th>\n",
       "      <th>Unnamed: 32</th>\n",
       "      <th>Unnamed: 33</th>\n",
       "      <th>Unnamed: 34</th>\n",
       "    </tr>\n",
       "  </thead>\n",
       "  <tbody>\n",
       "    <tr>\n",
       "      <th>0</th>\n",
       "      <td>Index</td>\n",
       "      <td>30.90</td>\n",
       "      <td>89.60</td>\n",
       "      <td>300.20</td>\n",
       "      <td>SPEED</td>\n",
       "      <td>NaN</td>\n",
       "      <td>Index</td>\n",
       "      <td>30.90</td>\n",
       "      <td>89.60</td>\n",
       "      <td>300.20</td>\n",
       "      <td>...</td>\n",
       "      <td>30.90</td>\n",
       "      <td>89.60</td>\n",
       "      <td>300.20</td>\n",
       "      <td>SPEED</td>\n",
       "      <td>NaN</td>\n",
       "      <td>Index</td>\n",
       "      <td>30.90</td>\n",
       "      <td>89.60</td>\n",
       "      <td>300.20</td>\n",
       "      <td>SPEED</td>\n",
       "    </tr>\n",
       "    <tr>\n",
       "      <th>1</th>\n",
       "      <td>1</td>\n",
       "      <td>-40.62</td>\n",
       "      <td>-42.34</td>\n",
       "      <td>-33.29</td>\n",
       "      <td>1765</td>\n",
       "      <td>NaN</td>\n",
       "      <td>1</td>\n",
       "      <td>-57.66</td>\n",
       "      <td>-59.10</td>\n",
       "      <td>-95.87</td>\n",
       "      <td>...</td>\n",
       "      <td>-49.84</td>\n",
       "      <td>-51.53</td>\n",
       "      <td>-39.00</td>\n",
       "      <td>1765</td>\n",
       "      <td>NaN</td>\n",
       "      <td>1</td>\n",
       "      <td>-47.06</td>\n",
       "      <td>-48.37</td>\n",
       "      <td>-31.05</td>\n",
       "      <td>1765</td>\n",
       "    </tr>\n",
       "    <tr>\n",
       "      <th>2</th>\n",
       "      <td>2</td>\n",
       "      <td>-40.42</td>\n",
       "      <td>-41.76</td>\n",
       "      <td>-35.27</td>\n",
       "      <td>1765</td>\n",
       "      <td>NaN</td>\n",
       "      <td>2</td>\n",
       "      <td>-57.34</td>\n",
       "      <td>-58.28</td>\n",
       "      <td>-84.34</td>\n",
       "      <td>...</td>\n",
       "      <td>-49.83</td>\n",
       "      <td>-49.58</td>\n",
       "      <td>-38.27</td>\n",
       "      <td>1765</td>\n",
       "      <td>NaN</td>\n",
       "      <td>2</td>\n",
       "      <td>-47.51</td>\n",
       "      <td>-48.37</td>\n",
       "      <td>-31.12</td>\n",
       "      <td>1765</td>\n",
       "    </tr>\n",
       "    <tr>\n",
       "      <th>3</th>\n",
       "      <td>3</td>\n",
       "      <td>-40.12</td>\n",
       "      <td>-41.77</td>\n",
       "      <td>-34.03</td>\n",
       "      <td>1765</td>\n",
       "      <td>NaN</td>\n",
       "      <td>3</td>\n",
       "      <td>-61.84</td>\n",
       "      <td>-63.13</td>\n",
       "      <td>-78.42</td>\n",
       "      <td>...</td>\n",
       "      <td>-49.32</td>\n",
       "      <td>-51.45</td>\n",
       "      <td>-37.91</td>\n",
       "      <td>1765</td>\n",
       "      <td>NaN</td>\n",
       "      <td>3</td>\n",
       "      <td>-47.66</td>\n",
       "      <td>-49.27</td>\n",
       "      <td>-30.19</td>\n",
       "      <td>1765</td>\n",
       "    </tr>\n",
       "    <tr>\n",
       "      <th>4</th>\n",
       "      <td>4</td>\n",
       "      <td>-40.49</td>\n",
       "      <td>-41.48</td>\n",
       "      <td>-32.83</td>\n",
       "      <td>1765</td>\n",
       "      <td>NaN</td>\n",
       "      <td>4</td>\n",
       "      <td>-64.98</td>\n",
       "      <td>-60.54</td>\n",
       "      <td>-85.11</td>\n",
       "      <td>...</td>\n",
       "      <td>-50.28</td>\n",
       "      <td>-51.40</td>\n",
       "      <td>-37.60</td>\n",
       "      <td>1765</td>\n",
       "      <td>NaN</td>\n",
       "      <td>4</td>\n",
       "      <td>-47.31</td>\n",
       "      <td>-48.10</td>\n",
       "      <td>-31.92</td>\n",
       "      <td>1765</td>\n",
       "    </tr>\n",
       "  </tbody>\n",
       "</table>\n",
       "<p>5 rows × 35 columns</p>\n",
       "</div>"
      ],
      "text/plain": [
       "  Healthy  Unnamed: 1  Unnamed: 2  Unnamed: 3 Unnamed: 4  Unnamed: 5    BRB  \\\n",
       "0   Index       30.90       89.60      300.20      SPEED         NaN  Index   \n",
       "1       1      -40.62      -42.34      -33.29       1765         NaN      1   \n",
       "2       2      -40.42      -41.76      -35.27       1765         NaN      2   \n",
       "3       3      -40.12      -41.77      -34.03       1765         NaN      3   \n",
       "4       4      -40.49      -41.48      -32.83       1765         NaN      4   \n",
       "\n",
       "   Unnamed: 7  Unnamed: 8  Unnamed: 9  ... Unnamed: 25  Unnamed: 26  \\\n",
       "0       30.90       89.60      300.20  ...       30.90        89.60   \n",
       "1      -57.66      -59.10      -95.87  ...      -49.84       -51.53   \n",
       "2      -57.34      -58.28      -84.34  ...      -49.83       -49.58   \n",
       "3      -61.84      -63.13      -78.42  ...      -49.32       -51.45   \n",
       "4      -64.98      -60.54      -85.11  ...      -50.28       -51.40   \n",
       "\n",
       "  Unnamed: 27  Unnamed: 28  Unnamed: 29  BRB+BH Unnamed: 31  Unnamed: 32  \\\n",
       "0      300.20        SPEED          NaN   Index       30.90        89.60   \n",
       "1      -39.00         1765          NaN       1      -47.06       -48.37   \n",
       "2      -38.27         1765          NaN       2      -47.51       -48.37   \n",
       "3      -37.91         1765          NaN       3      -47.66       -49.27   \n",
       "4      -37.60         1765          NaN       4      -47.31       -48.10   \n",
       "\n",
       "  Unnamed: 33  Unnamed: 34  \n",
       "0      300.20        SPEED  \n",
       "1      -31.05         1765  \n",
       "2      -31.12         1765  \n",
       "3      -30.19         1765  \n",
       "4      -31.92         1765  \n",
       "\n",
       "[5 rows x 35 columns]"
      ]
     },
     "execution_count": 90,
     "metadata": {},
     "output_type": "execute_result"
    }
   ],
   "source": [
    "data.dropna(axis=0)\n",
    "data.head()"
   ]
  },
  {
   "cell_type": "code",
   "execution_count": 91,
   "metadata": {},
   "outputs": [],
   "source": [
    "data.rename(columns=data.iloc[0],inplace=True)"
   ]
  },
  {
   "cell_type": "code",
   "execution_count": 92,
   "metadata": {},
   "outputs": [],
   "source": [
    "num_cols = 5 \n",
    "reshaped_data = []\n",
    "\n",
    "for i in range(0, data.shape[1], num_cols):  \n",
    "    chunk = data.iloc[:, i:i+num_cols].copy()  \n",
    "    chunk[\"label\"] = f\"Set-{i//num_cols + 1}\" \n",
    "    reshaped_data.append(chunk)\n",
    "\n",
    "\n",
    "final_df = pd.concat(reshaped_data, ignore_index=True)\n"
   ]
  },
  {
   "cell_type": "code",
   "execution_count": 93,
   "metadata": {},
   "outputs": [
    {
     "data": {
      "text/html": [
       "<div>\n",
       "<style scoped>\n",
       "    .dataframe tbody tr th:only-of-type {\n",
       "        vertical-align: middle;\n",
       "    }\n",
       "\n",
       "    .dataframe tbody tr th {\n",
       "        vertical-align: top;\n",
       "    }\n",
       "\n",
       "    .dataframe thead th {\n",
       "        text-align: right;\n",
       "    }\n",
       "</style>\n",
       "<table border=\"1\" class=\"dataframe\">\n",
       "  <thead>\n",
       "    <tr style=\"text-align: right;\">\n",
       "      <th></th>\n",
       "      <th>Index</th>\n",
       "      <th>30.9</th>\n",
       "      <th>89.6</th>\n",
       "      <th>300.2</th>\n",
       "      <th>SPEED</th>\n",
       "      <th>label</th>\n",
       "      <th>NaN</th>\n",
       "      <th>NaN</th>\n",
       "      <th>NaN</th>\n",
       "      <th>NaN</th>\n",
       "      <th>NaN</th>\n",
       "    </tr>\n",
       "  </thead>\n",
       "  <tbody>\n",
       "    <tr>\n",
       "      <th>0</th>\n",
       "      <td>Index</td>\n",
       "      <td>30.90</td>\n",
       "      <td>89.60</td>\n",
       "      <td>300.20</td>\n",
       "      <td>SPEED</td>\n",
       "      <td>Set-1</td>\n",
       "      <td>NaN</td>\n",
       "      <td>NaN</td>\n",
       "      <td>NaN</td>\n",
       "      <td>NaN</td>\n",
       "      <td>NaN</td>\n",
       "    </tr>\n",
       "    <tr>\n",
       "      <th>1</th>\n",
       "      <td>1</td>\n",
       "      <td>-40.62</td>\n",
       "      <td>-42.34</td>\n",
       "      <td>-33.29</td>\n",
       "      <td>1765</td>\n",
       "      <td>Set-1</td>\n",
       "      <td>NaN</td>\n",
       "      <td>NaN</td>\n",
       "      <td>NaN</td>\n",
       "      <td>NaN</td>\n",
       "      <td>NaN</td>\n",
       "    </tr>\n",
       "    <tr>\n",
       "      <th>2</th>\n",
       "      <td>2</td>\n",
       "      <td>-40.42</td>\n",
       "      <td>-41.76</td>\n",
       "      <td>-35.27</td>\n",
       "      <td>1765</td>\n",
       "      <td>Set-1</td>\n",
       "      <td>NaN</td>\n",
       "      <td>NaN</td>\n",
       "      <td>NaN</td>\n",
       "      <td>NaN</td>\n",
       "      <td>NaN</td>\n",
       "    </tr>\n",
       "    <tr>\n",
       "      <th>3</th>\n",
       "      <td>3</td>\n",
       "      <td>-40.12</td>\n",
       "      <td>-41.77</td>\n",
       "      <td>-34.03</td>\n",
       "      <td>1765</td>\n",
       "      <td>Set-1</td>\n",
       "      <td>NaN</td>\n",
       "      <td>NaN</td>\n",
       "      <td>NaN</td>\n",
       "      <td>NaN</td>\n",
       "      <td>NaN</td>\n",
       "    </tr>\n",
       "    <tr>\n",
       "      <th>4</th>\n",
       "      <td>4</td>\n",
       "      <td>-40.49</td>\n",
       "      <td>-41.48</td>\n",
       "      <td>-32.83</td>\n",
       "      <td>1765</td>\n",
       "      <td>Set-1</td>\n",
       "      <td>NaN</td>\n",
       "      <td>NaN</td>\n",
       "      <td>NaN</td>\n",
       "      <td>NaN</td>\n",
       "      <td>NaN</td>\n",
       "    </tr>\n",
       "  </tbody>\n",
       "</table>\n",
       "</div>"
      ],
      "text/plain": [
       "   Index   30.9   89.6   300.2  SPEED  label  NaN  NaN  NaN  NaN  NaN\n",
       "0  Index  30.90  89.60  300.20  SPEED  Set-1  NaN  NaN  NaN  NaN  NaN\n",
       "1      1 -40.62 -42.34  -33.29   1765  Set-1  NaN  NaN  NaN  NaN  NaN\n",
       "2      2 -40.42 -41.76  -35.27   1765  Set-1  NaN  NaN  NaN  NaN  NaN\n",
       "3      3 -40.12 -41.77  -34.03   1765  Set-1  NaN  NaN  NaN  NaN  NaN\n",
       "4      4 -40.49 -41.48  -32.83   1765  Set-1  NaN  NaN  NaN  NaN  NaN"
      ]
     },
     "execution_count": 93,
     "metadata": {},
     "output_type": "execute_result"
    }
   ],
   "source": [
    "final_df.head()"
   ]
  },
  {
   "cell_type": "code",
   "execution_count": 94,
   "metadata": {},
   "outputs": [
    {
     "data": {
      "text/plain": [
       "1127"
      ]
     },
     "execution_count": 94,
     "metadata": {},
     "output_type": "execute_result"
    }
   ],
   "source": [
    "len(final_df)"
   ]
  },
  {
   "cell_type": "code",
   "execution_count": 95,
   "metadata": {},
   "outputs": [],
   "source": [
    "final_df = final_df[final_df['Index'] != 'Index']\n",
    "final_df=final_df[final_df['SPEED'] != 'SPEED']"
   ]
  },
  {
   "cell_type": "code",
   "execution_count": 96,
   "metadata": {},
   "outputs": [
    {
     "data": {
      "text/plain": [
       "1120"
      ]
     },
     "execution_count": 96,
     "metadata": {},
     "output_type": "execute_result"
    }
   ],
   "source": [
    "len(final_df)"
   ]
  },
  {
   "cell_type": "code",
   "execution_count": 97,
   "metadata": {},
   "outputs": [],
   "source": [
    "# final_df.dropna(axis=1,inplace=True)\n",
    "# final_df.head()"
   ]
  },
  {
   "cell_type": "code",
   "execution_count": 98,
   "metadata": {},
   "outputs": [],
   "source": [
    "final=final_df.iloc[:,:6]"
   ]
  },
  {
   "cell_type": "code",
   "execution_count": 99,
   "metadata": {},
   "outputs": [
    {
     "data": {
      "text/html": [
       "<div>\n",
       "<style scoped>\n",
       "    .dataframe tbody tr th:only-of-type {\n",
       "        vertical-align: middle;\n",
       "    }\n",
       "\n",
       "    .dataframe tbody tr th {\n",
       "        vertical-align: top;\n",
       "    }\n",
       "\n",
       "    .dataframe thead th {\n",
       "        text-align: right;\n",
       "    }\n",
       "</style>\n",
       "<table border=\"1\" class=\"dataframe\">\n",
       "  <thead>\n",
       "    <tr style=\"text-align: right;\">\n",
       "      <th></th>\n",
       "      <th>Index</th>\n",
       "      <th>30.9</th>\n",
       "      <th>89.6</th>\n",
       "      <th>300.2</th>\n",
       "      <th>SPEED</th>\n",
       "      <th>label</th>\n",
       "    </tr>\n",
       "  </thead>\n",
       "  <tbody>\n",
       "    <tr>\n",
       "      <th>1</th>\n",
       "      <td>1</td>\n",
       "      <td>-40.62</td>\n",
       "      <td>-42.34</td>\n",
       "      <td>-33.29</td>\n",
       "      <td>1765</td>\n",
       "      <td>Set-1</td>\n",
       "    </tr>\n",
       "    <tr>\n",
       "      <th>2</th>\n",
       "      <td>2</td>\n",
       "      <td>-40.42</td>\n",
       "      <td>-41.76</td>\n",
       "      <td>-35.27</td>\n",
       "      <td>1765</td>\n",
       "      <td>Set-1</td>\n",
       "    </tr>\n",
       "    <tr>\n",
       "      <th>3</th>\n",
       "      <td>3</td>\n",
       "      <td>-40.12</td>\n",
       "      <td>-41.77</td>\n",
       "      <td>-34.03</td>\n",
       "      <td>1765</td>\n",
       "      <td>Set-1</td>\n",
       "    </tr>\n",
       "    <tr>\n",
       "      <th>4</th>\n",
       "      <td>4</td>\n",
       "      <td>-40.49</td>\n",
       "      <td>-41.48</td>\n",
       "      <td>-32.83</td>\n",
       "      <td>1765</td>\n",
       "      <td>Set-1</td>\n",
       "    </tr>\n",
       "    <tr>\n",
       "      <th>5</th>\n",
       "      <td>5</td>\n",
       "      <td>-40.17</td>\n",
       "      <td>-41.52</td>\n",
       "      <td>-34.50</td>\n",
       "      <td>1765</td>\n",
       "      <td>Set-1</td>\n",
       "    </tr>\n",
       "  </tbody>\n",
       "</table>\n",
       "</div>"
      ],
      "text/plain": [
       "  Index   30.9   89.6  300.2 SPEED  label\n",
       "1     1 -40.62 -42.34 -33.29  1765  Set-1\n",
       "2     2 -40.42 -41.76 -35.27  1765  Set-1\n",
       "3     3 -40.12 -41.77 -34.03  1765  Set-1\n",
       "4     4 -40.49 -41.48 -32.83  1765  Set-1\n",
       "5     5 -40.17 -41.52 -34.50  1765  Set-1"
      ]
     },
     "execution_count": 99,
     "metadata": {},
     "output_type": "execute_result"
    }
   ],
   "source": [
    "final.head()"
   ]
  },
  {
   "cell_type": "code",
   "execution_count": 100,
   "metadata": {},
   "outputs": [
    {
     "data": {
      "text/plain": [
       "array(['Set-1', 'Set-2', 'Set-3', 'Set-4', 'Set-5', 'Set-6', 'Set-7'],\n",
       "      dtype=object)"
      ]
     },
     "execution_count": 100,
     "metadata": {},
     "output_type": "execute_result"
    }
   ],
   "source": [
    "final['label'].unique()"
   ]
  },
  {
   "cell_type": "code",
   "execution_count": 101,
   "metadata": {},
   "outputs": [],
   "source": [
    "dictionary={\n",
    "    'Set-1':\"Healthy\",\n",
    "    'Set-2':\"BRB\",\n",
    "    'Set-3':\"Sratch\",\n",
    "    'Set-4':'BRB+BS',\n",
    "    'Set-5':'BH',\n",
    "    'Set-6':'BRB+BH',\n",
    "    'Set-7':\"DUMMY\"\n",
    "\n",
    "}\n",
    "dict1={\n",
    "  \"Healthy\":1,\n",
    "\"BRB\":2,\n",
    "\"Sratch\":3,\n",
    "'BRB+BS':4,\n",
    "'BH':5,\n",
    "'BRB+BH':6 ,\n",
    "'DUMMY':7\n",
    "}"
   ]
  },
  {
   "cell_type": "code",
   "execution_count": 102,
   "metadata": {},
   "outputs": [],
   "source": [
    "final['label']=final['label'].apply(lambda x:dictionary[x])\n",
    "final['encoded']=final['label'].apply(lambda x:dict1[x])"
   ]
  },
  {
   "cell_type": "code",
   "execution_count": 103,
   "metadata": {},
   "outputs": [
    {
     "data": {
      "text/html": [
       "<div>\n",
       "<style scoped>\n",
       "    .dataframe tbody tr th:only-of-type {\n",
       "        vertical-align: middle;\n",
       "    }\n",
       "\n",
       "    .dataframe tbody tr th {\n",
       "        vertical-align: top;\n",
       "    }\n",
       "\n",
       "    .dataframe thead th {\n",
       "        text-align: right;\n",
       "    }\n",
       "</style>\n",
       "<table border=\"1\" class=\"dataframe\">\n",
       "  <thead>\n",
       "    <tr style=\"text-align: right;\">\n",
       "      <th></th>\n",
       "      <th>Index</th>\n",
       "      <th>30.9</th>\n",
       "      <th>89.6</th>\n",
       "      <th>300.2</th>\n",
       "      <th>SPEED</th>\n",
       "      <th>label</th>\n",
       "      <th>encoded</th>\n",
       "    </tr>\n",
       "  </thead>\n",
       "  <tbody>\n",
       "    <tr>\n",
       "      <th>1</th>\n",
       "      <td>1</td>\n",
       "      <td>-40.62</td>\n",
       "      <td>-42.34</td>\n",
       "      <td>-33.29</td>\n",
       "      <td>1765</td>\n",
       "      <td>Healthy</td>\n",
       "      <td>1</td>\n",
       "    </tr>\n",
       "    <tr>\n",
       "      <th>2</th>\n",
       "      <td>2</td>\n",
       "      <td>-40.42</td>\n",
       "      <td>-41.76</td>\n",
       "      <td>-35.27</td>\n",
       "      <td>1765</td>\n",
       "      <td>Healthy</td>\n",
       "      <td>1</td>\n",
       "    </tr>\n",
       "    <tr>\n",
       "      <th>3</th>\n",
       "      <td>3</td>\n",
       "      <td>-40.12</td>\n",
       "      <td>-41.77</td>\n",
       "      <td>-34.03</td>\n",
       "      <td>1765</td>\n",
       "      <td>Healthy</td>\n",
       "      <td>1</td>\n",
       "    </tr>\n",
       "    <tr>\n",
       "      <th>4</th>\n",
       "      <td>4</td>\n",
       "      <td>-40.49</td>\n",
       "      <td>-41.48</td>\n",
       "      <td>-32.83</td>\n",
       "      <td>1765</td>\n",
       "      <td>Healthy</td>\n",
       "      <td>1</td>\n",
       "    </tr>\n",
       "    <tr>\n",
       "      <th>5</th>\n",
       "      <td>5</td>\n",
       "      <td>-40.17</td>\n",
       "      <td>-41.52</td>\n",
       "      <td>-34.50</td>\n",
       "      <td>1765</td>\n",
       "      <td>Healthy</td>\n",
       "      <td>1</td>\n",
       "    </tr>\n",
       "  </tbody>\n",
       "</table>\n",
       "</div>"
      ],
      "text/plain": [
       "  Index   30.9   89.6  300.2 SPEED    label  encoded\n",
       "1     1 -40.62 -42.34 -33.29  1765  Healthy        1\n",
       "2     2 -40.42 -41.76 -35.27  1765  Healthy        1\n",
       "3     3 -40.12 -41.77 -34.03  1765  Healthy        1\n",
       "4     4 -40.49 -41.48 -32.83  1765  Healthy        1\n",
       "5     5 -40.17 -41.52 -34.50  1765  Healthy        1"
      ]
     },
     "execution_count": 103,
     "metadata": {},
     "output_type": "execute_result"
    }
   ],
   "source": [
    "final.head()"
   ]
  },
  {
   "cell_type": "code",
   "execution_count": 104,
   "metadata": {},
   "outputs": [],
   "source": [
    "from sklearn.svm import SVC\n",
    "from sklearn.model_selection import train_test_split\n",
    "from sklearn.metrics import accuracy_score"
   ]
  },
  {
   "cell_type": "code",
   "execution_count": 105,
   "metadata": {},
   "outputs": [
    {
     "data": {
      "text/html": [
       "<div>\n",
       "<style scoped>\n",
       "    .dataframe tbody tr th:only-of-type {\n",
       "        vertical-align: middle;\n",
       "    }\n",
       "\n",
       "    .dataframe tbody tr th {\n",
       "        vertical-align: top;\n",
       "    }\n",
       "\n",
       "    .dataframe thead th {\n",
       "        text-align: right;\n",
       "    }\n",
       "</style>\n",
       "<table border=\"1\" class=\"dataframe\">\n",
       "  <thead>\n",
       "    <tr style=\"text-align: right;\">\n",
       "      <th></th>\n",
       "      <th>Index</th>\n",
       "      <th>30.9</th>\n",
       "      <th>89.6</th>\n",
       "      <th>300.2</th>\n",
       "      <th>SPEED</th>\n",
       "      <th>encoded</th>\n",
       "    </tr>\n",
       "  </thead>\n",
       "  <tbody>\n",
       "    <tr>\n",
       "      <th>1</th>\n",
       "      <td>1</td>\n",
       "      <td>-40.62</td>\n",
       "      <td>-42.34</td>\n",
       "      <td>-33.29</td>\n",
       "      <td>1765</td>\n",
       "      <td>1</td>\n",
       "    </tr>\n",
       "    <tr>\n",
       "      <th>2</th>\n",
       "      <td>2</td>\n",
       "      <td>-40.42</td>\n",
       "      <td>-41.76</td>\n",
       "      <td>-35.27</td>\n",
       "      <td>1765</td>\n",
       "      <td>1</td>\n",
       "    </tr>\n",
       "    <tr>\n",
       "      <th>3</th>\n",
       "      <td>3</td>\n",
       "      <td>-40.12</td>\n",
       "      <td>-41.77</td>\n",
       "      <td>-34.03</td>\n",
       "      <td>1765</td>\n",
       "      <td>1</td>\n",
       "    </tr>\n",
       "    <tr>\n",
       "      <th>4</th>\n",
       "      <td>4</td>\n",
       "      <td>-40.49</td>\n",
       "      <td>-41.48</td>\n",
       "      <td>-32.83</td>\n",
       "      <td>1765</td>\n",
       "      <td>1</td>\n",
       "    </tr>\n",
       "    <tr>\n",
       "      <th>5</th>\n",
       "      <td>5</td>\n",
       "      <td>-40.17</td>\n",
       "      <td>-41.52</td>\n",
       "      <td>-34.50</td>\n",
       "      <td>1765</td>\n",
       "      <td>1</td>\n",
       "    </tr>\n",
       "  </tbody>\n",
       "</table>\n",
       "</div>"
      ],
      "text/plain": [
       "  Index   30.9   89.6  300.2 SPEED  encoded\n",
       "1     1 -40.62 -42.34 -33.29  1765        1\n",
       "2     2 -40.42 -41.76 -35.27  1765        1\n",
       "3     3 -40.12 -41.77 -34.03  1765        1\n",
       "4     4 -40.49 -41.48 -32.83  1765        1\n",
       "5     5 -40.17 -41.52 -34.50  1765        1"
      ]
     },
     "execution_count": 105,
     "metadata": {},
     "output_type": "execute_result"
    }
   ],
   "source": [
    "model=SVC()\n",
    "dataxy=final.drop(['label'],axis=1)\n",
    "dataxy.head()"
   ]
  },
  {
   "cell_type": "code",
   "execution_count": 121,
   "metadata": {},
   "outputs": [],
   "source": [
    "dataxy.dropna(axis=0,inplace=True)"
   ]
  },
  {
   "cell_type": "code",
   "execution_count": 122,
   "metadata": {},
   "outputs": [],
   "source": [
    "x = dataxy.drop(['encoded', 'Index'], axis=1)\n",
    "  # Ensure these column names exist\n",
    "\n",
    "# Rename columns\n",
    "x.columns = ['a', 'b', 'c', 'speed']\n",
    "y = pd.DataFrame(dataxy['encoded'],columns=(['encoded']))\n"
   ]
  },
  {
   "cell_type": "code",
   "execution_count": 123,
   "metadata": {},
   "outputs": [
    {
     "data": {
      "text/html": [
       "<div>\n",
       "<style scoped>\n",
       "    .dataframe tbody tr th:only-of-type {\n",
       "        vertical-align: middle;\n",
       "    }\n",
       "\n",
       "    .dataframe tbody tr th {\n",
       "        vertical-align: top;\n",
       "    }\n",
       "\n",
       "    .dataframe thead th {\n",
       "        text-align: right;\n",
       "    }\n",
       "</style>\n",
       "<table border=\"1\" class=\"dataframe\">\n",
       "  <thead>\n",
       "    <tr style=\"text-align: right;\">\n",
       "      <th></th>\n",
       "      <th>a</th>\n",
       "      <th>b</th>\n",
       "      <th>c</th>\n",
       "      <th>speed</th>\n",
       "    </tr>\n",
       "  </thead>\n",
       "  <tbody>\n",
       "    <tr>\n",
       "      <th>1</th>\n",
       "      <td>-40.62</td>\n",
       "      <td>-42.34</td>\n",
       "      <td>-33.29</td>\n",
       "      <td>1765</td>\n",
       "    </tr>\n",
       "    <tr>\n",
       "      <th>2</th>\n",
       "      <td>-40.42</td>\n",
       "      <td>-41.76</td>\n",
       "      <td>-35.27</td>\n",
       "      <td>1765</td>\n",
       "    </tr>\n",
       "    <tr>\n",
       "      <th>3</th>\n",
       "      <td>-40.12</td>\n",
       "      <td>-41.77</td>\n",
       "      <td>-34.03</td>\n",
       "      <td>1765</td>\n",
       "    </tr>\n",
       "    <tr>\n",
       "      <th>4</th>\n",
       "      <td>-40.49</td>\n",
       "      <td>-41.48</td>\n",
       "      <td>-32.83</td>\n",
       "      <td>1765</td>\n",
       "    </tr>\n",
       "    <tr>\n",
       "      <th>5</th>\n",
       "      <td>-40.17</td>\n",
       "      <td>-41.52</td>\n",
       "      <td>-34.50</td>\n",
       "      <td>1765</td>\n",
       "    </tr>\n",
       "  </tbody>\n",
       "</table>\n",
       "</div>"
      ],
      "text/plain": [
       "       a      b      c speed\n",
       "1 -40.62 -42.34 -33.29  1765\n",
       "2 -40.42 -41.76 -35.27  1765\n",
       "3 -40.12 -41.77 -34.03  1765\n",
       "4 -40.49 -41.48 -32.83  1765\n",
       "5 -40.17 -41.52 -34.50  1765"
      ]
     },
     "execution_count": 123,
     "metadata": {},
     "output_type": "execute_result"
    }
   ],
   "source": [
    "x.dropna(axis=0,inplace=True)\n",
    "x.head()"
   ]
  },
  {
   "cell_type": "code",
   "execution_count": 124,
   "metadata": {},
   "outputs": [
    {
     "data": {
      "text/plain": [
       "dtype('float64')"
      ]
     },
     "execution_count": 124,
     "metadata": {},
     "output_type": "execute_result"
    }
   ],
   "source": [
    "x['c'].dtype"
   ]
  },
  {
   "cell_type": "code",
   "execution_count": 125,
   "metadata": {},
   "outputs": [],
   "source": [
    "x_train,x_test,y_train,y_test=train_test_split(x,y,test_size=0.2)"
   ]
  },
  {
   "cell_type": "code",
   "execution_count": 126,
   "metadata": {},
   "outputs": [
    {
     "data": {
      "text/html": [
       "<div>\n",
       "<style scoped>\n",
       "    .dataframe tbody tr th:only-of-type {\n",
       "        vertical-align: middle;\n",
       "    }\n",
       "\n",
       "    .dataframe tbody tr th {\n",
       "        vertical-align: top;\n",
       "    }\n",
       "\n",
       "    .dataframe thead th {\n",
       "        text-align: right;\n",
       "    }\n",
       "</style>\n",
       "<table border=\"1\" class=\"dataframe\">\n",
       "  <thead>\n",
       "    <tr style=\"text-align: right;\">\n",
       "      <th></th>\n",
       "      <th>a</th>\n",
       "      <th>b</th>\n",
       "      <th>c</th>\n",
       "      <th>speed</th>\n",
       "    </tr>\n",
       "  </thead>\n",
       "  <tbody>\n",
       "    <tr>\n",
       "      <th>1052</th>\n",
       "      <td>-41.39</td>\n",
       "      <td>-43.36</td>\n",
       "      <td>-30.76</td>\n",
       "      <td>1775</td>\n",
       "    </tr>\n",
       "    <tr>\n",
       "      <th>92</th>\n",
       "      <td>-38.05</td>\n",
       "      <td>-40.24</td>\n",
       "      <td>-35.45</td>\n",
       "      <td>1775</td>\n",
       "    </tr>\n",
       "    <tr>\n",
       "      <th>1024</th>\n",
       "      <td>-44.96</td>\n",
       "      <td>-48.41</td>\n",
       "      <td>-33.83</td>\n",
       "      <td>1770</td>\n",
       "    </tr>\n",
       "    <tr>\n",
       "      <th>86</th>\n",
       "      <td>-38.23</td>\n",
       "      <td>-40.86</td>\n",
       "      <td>-34.08</td>\n",
       "      <td>1775</td>\n",
       "    </tr>\n",
       "    <tr>\n",
       "      <th>1070</th>\n",
       "      <td>-40.62</td>\n",
       "      <td>-42.76</td>\n",
       "      <td>-31.14</td>\n",
       "      <td>1775</td>\n",
       "    </tr>\n",
       "  </tbody>\n",
       "</table>\n",
       "</div>"
      ],
      "text/plain": [
       "          a      b      c speed\n",
       "1052 -41.39 -43.36 -30.76  1775\n",
       "92   -38.05 -40.24 -35.45  1775\n",
       "1024 -44.96 -48.41 -33.83  1770\n",
       "86   -38.23 -40.86 -34.08  1775\n",
       "1070 -40.62 -42.76 -31.14  1775"
      ]
     },
     "execution_count": 126,
     "metadata": {},
     "output_type": "execute_result"
    }
   ],
   "source": [
    "x_train.head()"
   ]
  },
  {
   "cell_type": "code",
   "execution_count": 127,
   "metadata": {},
   "outputs": [
    {
     "name": "stderr",
     "output_type": "stream",
     "text": [
      "c:\\Users\\Vasantha Raj\\AppData\\Local\\Programs\\Python\\Python311\\Lib\\site-packages\\sklearn\\utils\\validation.py:1183: DataConversionWarning: A column-vector y was passed when a 1d array was expected. Please change the shape of y to (n_samples, ), for example using ravel().\n",
      "  y = column_or_1d(y, warn=True)\n"
     ]
    },
    {
     "data": {
      "text/html": [
       "<style>#sk-container-id-1 {color: black;}#sk-container-id-1 pre{padding: 0;}#sk-container-id-1 div.sk-toggleable {background-color: white;}#sk-container-id-1 label.sk-toggleable__label {cursor: pointer;display: block;width: 100%;margin-bottom: 0;padding: 0.3em;box-sizing: border-box;text-align: center;}#sk-container-id-1 label.sk-toggleable__label-arrow:before {content: \"▸\";float: left;margin-right: 0.25em;color: #696969;}#sk-container-id-1 label.sk-toggleable__label-arrow:hover:before {color: black;}#sk-container-id-1 div.sk-estimator:hover label.sk-toggleable__label-arrow:before {color: black;}#sk-container-id-1 div.sk-toggleable__content {max-height: 0;max-width: 0;overflow: hidden;text-align: left;background-color: #f0f8ff;}#sk-container-id-1 div.sk-toggleable__content pre {margin: 0.2em;color: black;border-radius: 0.25em;background-color: #f0f8ff;}#sk-container-id-1 input.sk-toggleable__control:checked~div.sk-toggleable__content {max-height: 200px;max-width: 100%;overflow: auto;}#sk-container-id-1 input.sk-toggleable__control:checked~label.sk-toggleable__label-arrow:before {content: \"▾\";}#sk-container-id-1 div.sk-estimator input.sk-toggleable__control:checked~label.sk-toggleable__label {background-color: #d4ebff;}#sk-container-id-1 div.sk-label input.sk-toggleable__control:checked~label.sk-toggleable__label {background-color: #d4ebff;}#sk-container-id-1 input.sk-hidden--visually {border: 0;clip: rect(1px 1px 1px 1px);clip: rect(1px, 1px, 1px, 1px);height: 1px;margin: -1px;overflow: hidden;padding: 0;position: absolute;width: 1px;}#sk-container-id-1 div.sk-estimator {font-family: monospace;background-color: #f0f8ff;border: 1px dotted black;border-radius: 0.25em;box-sizing: border-box;margin-bottom: 0.5em;}#sk-container-id-1 div.sk-estimator:hover {background-color: #d4ebff;}#sk-container-id-1 div.sk-parallel-item::after {content: \"\";width: 100%;border-bottom: 1px solid gray;flex-grow: 1;}#sk-container-id-1 div.sk-label:hover label.sk-toggleable__label {background-color: #d4ebff;}#sk-container-id-1 div.sk-serial::before {content: \"\";position: absolute;border-left: 1px solid gray;box-sizing: border-box;top: 0;bottom: 0;left: 50%;z-index: 0;}#sk-container-id-1 div.sk-serial {display: flex;flex-direction: column;align-items: center;background-color: white;padding-right: 0.2em;padding-left: 0.2em;position: relative;}#sk-container-id-1 div.sk-item {position: relative;z-index: 1;}#sk-container-id-1 div.sk-parallel {display: flex;align-items: stretch;justify-content: center;background-color: white;position: relative;}#sk-container-id-1 div.sk-item::before, #sk-container-id-1 div.sk-parallel-item::before {content: \"\";position: absolute;border-left: 1px solid gray;box-sizing: border-box;top: 0;bottom: 0;left: 50%;z-index: -1;}#sk-container-id-1 div.sk-parallel-item {display: flex;flex-direction: column;z-index: 1;position: relative;background-color: white;}#sk-container-id-1 div.sk-parallel-item:first-child::after {align-self: flex-end;width: 50%;}#sk-container-id-1 div.sk-parallel-item:last-child::after {align-self: flex-start;width: 50%;}#sk-container-id-1 div.sk-parallel-item:only-child::after {width: 0;}#sk-container-id-1 div.sk-dashed-wrapped {border: 1px dashed gray;margin: 0 0.4em 0.5em 0.4em;box-sizing: border-box;padding-bottom: 0.4em;background-color: white;}#sk-container-id-1 div.sk-label label {font-family: monospace;font-weight: bold;display: inline-block;line-height: 1.2em;}#sk-container-id-1 div.sk-label-container {text-align: center;}#sk-container-id-1 div.sk-container {/* jupyter's `normalize.less` sets `[hidden] { display: none; }` but bootstrap.min.css set `[hidden] { display: none !important; }` so we also need the `!important` here to be able to override the default hidden behavior on the sphinx rendered scikit-learn.org. See: https://github.com/scikit-learn/scikit-learn/issues/21755 */display: inline-block !important;position: relative;}#sk-container-id-1 div.sk-text-repr-fallback {display: none;}</style><div id=\"sk-container-id-1\" class=\"sk-top-container\"><div class=\"sk-text-repr-fallback\"><pre>SVC()</pre><b>In a Jupyter environment, please rerun this cell to show the HTML representation or trust the notebook. <br />On GitHub, the HTML representation is unable to render, please try loading this page with nbviewer.org.</b></div><div class=\"sk-container\" hidden><div class=\"sk-item\"><div class=\"sk-estimator sk-toggleable\"><input class=\"sk-toggleable__control sk-hidden--visually\" id=\"sk-estimator-id-1\" type=\"checkbox\" checked><label for=\"sk-estimator-id-1\" class=\"sk-toggleable__label sk-toggleable__label-arrow\">SVC</label><div class=\"sk-toggleable__content\"><pre>SVC()</pre></div></div></div></div></div>"
      ],
      "text/plain": [
       "SVC()"
      ]
     },
     "execution_count": 127,
     "metadata": {},
     "output_type": "execute_result"
    }
   ],
   "source": [
    "model.fit(x_train,y_train)"
   ]
  },
  {
   "cell_type": "code",
   "execution_count": 128,
   "metadata": {},
   "outputs": [],
   "source": [
    "pred=model.predict(x_test)"
   ]
  },
  {
   "cell_type": "code",
   "execution_count": 129,
   "metadata": {},
   "outputs": [
    {
     "name": "stdout",
     "output_type": "stream",
     "text": [
      "0.484375\n"
     ]
    }
   ],
   "source": [
    "print(accuracy_score(pred,y_test))"
   ]
  },
  {
   "cell_type": "code",
   "execution_count": null,
   "metadata": {},
   "outputs": [
    {
     "name": "stdout",
     "output_type": "stream",
     "text": [
      "1.0\n"
     ]
    },
    {
     "name": "stderr",
     "output_type": "stream",
     "text": [
      "c:\\Users\\Vasantha Raj\\AppData\\Local\\Programs\\Python\\Python311\\Lib\\site-packages\\sklearn\\base.py:1152: DataConversionWarning: A column-vector y was passed when a 1d array was expected. Please change the shape of y to (n_samples,), for example using ravel().\n",
      "  return fit_method(estimator, *args, **kwargs)\n"
     ]
    }
   ],
   "source": [
    "from sklearn.ensemble import RandomForestClassifier\n",
    "model1=RandomForestClassifier()"
   ]
  },
  {
   "cell_type": "code",
   "execution_count": 131,
   "metadata": {},
   "outputs": [
    {
     "name": "stdout",
     "output_type": "stream",
     "text": [
      "1.0\n"
     ]
    },
    {
     "name": "stderr",
     "output_type": "stream",
     "text": [
      "c:\\Users\\Vasantha Raj\\AppData\\Local\\Programs\\Python\\Python311\\Lib\\site-packages\\sklearn\\base.py:1152: DataConversionWarning: A column-vector y was passed when a 1d array was expected. Please change the shape of y to (n_samples,), for example using ravel().\n",
      "  return fit_method(estimator, *args, **kwargs)\n"
     ]
    }
   ],
   "source": [
    "model1.fit(x_train,y_train)\n",
    "pred1=model1.predict(x_test)\n",
    "print(accuracy_score(pred1,y_test))"
   ]
  },
  {
   "cell_type": "code",
   "execution_count": 134,
   "metadata": {},
   "outputs": [],
   "source": [
    "from sklearn.tree import DecisionTreeClassifier\n",
    "model2=DecisionTreeClassifier()\n"
   ]
  },
  {
   "cell_type": "code",
   "execution_count": 135,
   "metadata": {},
   "outputs": [
    {
     "name": "stdout",
     "output_type": "stream",
     "text": [
      "1.0\n"
     ]
    }
   ],
   "source": [
    "model2.fit(x_train,y_train)\n",
    "pred2=model1.predict(x_test)\n",
    "print(accuracy_score(pred2,y_test))"
   ]
  },
  {
   "cell_type": "code",
   "execution_count": null,
   "metadata": {},
   "outputs": [],
   "source": []
  }
 ],
 "metadata": {
  "kernelspec": {
   "display_name": "Python 3",
   "language": "python",
   "name": "python3"
  },
  "language_info": {
   "codemirror_mode": {
    "name": "ipython",
    "version": 3
   },
   "file_extension": ".py",
   "mimetype": "text/x-python",
   "name": "python",
   "nbconvert_exporter": "python",
   "pygments_lexer": "ipython3",
   "version": "3.11.4"
  }
 },
 "nbformat": 4,
 "nbformat_minor": 2
}
